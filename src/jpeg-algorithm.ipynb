{
 "cells": [
  {
   "cell_type": "markdown",
   "id": "0dec5f94",
   "metadata": {},
   "source": [
    "# Jpeg algorithm"
   ]
  },
  {
   "cell_type": "markdown",
   "id": "c85b34e9",
   "metadata": {},
   "source": [
    "**Groupe 30**: Tony Heng / Gabriel Rayzal / Nathan Cabasso / Ferdinand Mom"
   ]
  },
  {
   "cell_type": "code",
   "execution_count": 1,
   "id": "b52ac1a6",
   "metadata": {},
   "outputs": [],
   "source": [
    "# Explained what is JPEG etc ..."
   ]
  },
  {
   "cell_type": "markdown",
   "id": "c60af7d6",
   "metadata": {},
   "source": [
    "# Table of Contents\n",
    "\n",
    "- I/ Compression\n",
    "- II/ Decompression\n",
    "- III/ Test on real image"
   ]
  },
  {
   "cell_type": "markdown",
   "id": "b3d3fc07",
   "metadata": {},
   "source": [
    "# <ins> I/ Compression </ins>"
   ]
  },
  {
   "cell_type": "markdown",
   "id": "5c8d64b9",
   "metadata": {},
   "source": [
    "Whole compression pipeline"
   ]
  },
  {
   "cell_type": "markdown",
   "id": "7ee4f46f",
   "metadata": {},
   "source": [
    "![](https://cdn.discordapp.com/attachments/844292513665515531/859104978538856448/unknown.png)"
   ]
  },
  {
   "cell_type": "markdown",
   "id": "7bb26959",
   "metadata": {},
   "source": [
    "## 1) Block splitting"
   ]
  },
  {
   "cell_type": "markdown",
   "id": "2f096a7d",
   "metadata": {},
   "source": [
    "First step is to divide input image into non-overlapping 8 × 8 macro-blocks.\n",
    "![](https://cdn.discordapp.com/attachments/844292513665515531/859064441525370900/unknown.png)\n",
    "If the dimensions are not divisible in integer numbers of blocks, the image can be padded:\n",
    "\n",
    "- zero padding: #TODO\n",
    "- replicating border: #TODO\n",
    "\n",
    "A naive approach could be to pad only a side of the image (bottom-left). The downside of this approach is that we can find ourselves with macro-blocks full of zeros. Thus, we decided to implement our padding in a such way that the image is always center in the middle."
   ]
  },
  {
   "cell_type": "markdown",
   "id": "0242cf4f",
   "metadata": {},
   "source": [
    "## 2) DCT"
   ]
  },
  {
   "cell_type": "markdown",
   "id": "dde19fa5",
   "metadata": {},
   "source": [
    "The second step is to perform a DCT (Discret Cosine Transformation) on each macro-block. To understand the need of DCT, we need to first understand what is an image. An image is the superposition of:\n",
    "\n",
    "- Low frequencies: overall structure of image.\n",
    "- High frequencies: Details (edges and noises)\n",
    "\n",
    "An image is originally represented in its spatial representation which means the image is decomposed in a set of basis image.\n",
    "\n",
    "![](https://cdn.discordapp.com/attachments/844292513665515531/859090327977721866/unknown.png)\n",
    "\n",
    "The problem is then the following: How do we discard the useless part of high frequency (noises) without removing important information ?\n",
    "\n",
    "To do so, we perform a frequency analysis of the image. However, the way the image is initially represented (in spatial representation) is not suited to carry out a frequency analysis. Indeed, high frequencies are disseminated everywhere in the image so it is hard to tell whether a quick variation in terms of pixel is due to an edge (important) or noise (to be discarded).\n",
    "\n",
    "That is why we need to change the representation of our image which is done by performing transformations on our image in order to represent it into a new basis. More precisely, the transformation will enable to represent our image into a new basis. Here are some transformations:\n",
    "\n",
    "- Walsh-Hadamard\n",
    "- Discret Fourier Transform (DFT)\n",
    "- Discret Cosine Transform (DCT)\n",
    "\n",
    "JPEG uses DCT which succeed in compacting most of the image energy into as few coefficients as possible compare to Waslh-Hadamard and does not require to store complex number (real and imaginary parts) like DFT which requires double the memory for storage.\n",
    "\n",
    "Each 8x8 macro-block will then be multiply with the following DCT kernel matrix:\n",
    "\n",
    "![](https://cdn.discordapp.com/attachments/844292513665515531/859082211910221824/unknown.png)\n",
    "\n",
    "The result of the DCT is also an 8 by 8 block where the first coefficient at the top left corner represents the DC coefficient. Remaining coefficients are called AC coefficients. The advantage of the DCT is its tendency to aggregate most of the signal in top left corner of the result. Note that the higher the coefficient, the more information it contains, useful to properly reconstruct the image. Thus, we can gain in storage by removing smaller coefficients which is the goal of next step."
   ]
  },
  {
   "cell_type": "markdown",
   "id": "690b81a9",
   "metadata": {},
   "source": [
    "## 3) Quantization"
   ]
  },
  {
   "attachments": {},
   "cell_type": "markdown",
   "id": "dd8bd4fa",
   "metadata": {},
   "source": [
    "The third step is quantization which looks for a way to maximize the number of 0 coefficients. This is done through the use of quantization matrix which were found empirically.\n",
    "\n",
    "First quantization matrix is for RGB image while second one is for YUV image (only to be applied to UV channels): \n",
    "\n",
    "![](https://cdn.discordapp.com/attachments/844292513665515531/859100308390805534/quantification_Qq.png)\n",
    "![](https://cdn.discordapp.com/attachments/844292513665515531/859100870369214534/quantification_Quv.png)\n",
    "\n",
    "The formula is the following:\n",
    "\n",
    "$$round(\\frac{DCT(block - 128)}{Q})$$\n",
    "\n",
    "- Before applying DCT, we must remove 128 to each 8x8 macro-block because statiscally, it was found that the mean value of an 8x8 macro-block is close to 128. Thus, $DCT(block - 128)$ wille result in more value close to 0.\n",
    "- After dividing by the quantization matrix, we round to the nearest integer. This is the reason why JPEG is a lossy algorithm. It will not be possible to recover the same value during decompression.\n",
    "\n",
    "One can also change the quality of compression using a quality factor $q \\in [1, 100]$ and the following algorithm:\n",
    "\n",
    "![](https://cdn.discordapp.com/attachments/844292513665515531/859104454381142046/unknown.png)\n",
    "\n",
    "The higher $q$ is, the more similar the compressed image will be compared to the original image."
   ]
  },
  {
   "cell_type": "markdown",
   "id": "ea1c2676",
   "metadata": {},
   "source": [
    "## 4) Zigzag + Huffman"
   ]
  },
  {
   "cell_type": "markdown",
   "id": "74f3d48c",
   "metadata": {},
   "source": [
    "### a) Zigzag"
   ]
  },
  {
   "cell_type": "markdown",
   "id": "c09de3dd",
   "metadata": {},
   "source": [
    "The goal of this step is to represent our 8x8 macro-block with only the essential coefficients. Indeed, after quantization, a lot of coefficients on the bottom corner of our macro-block are set to 0 while most of the important coefficients are on the top left corner."
   ]
  },
  {
   "cell_type": "markdown",
   "id": "5e003cd0",
   "metadata": {},
   "source": [
    "![](https://cdn.discordapp.com/attachments/844292513665515531/859105773091291146/unknown.png)"
   ]
  },
  {
   "cell_type": "markdown",
   "id": "84109954",
   "metadata": {},
   "source": [
    "### b) Huffman"
   ]
  },
  {
   "cell_type": "markdown",
   "id": "9c1c9e6b",
   "metadata": {},
   "source": [
    "We know need to encode coefficients in the zigzag ordering using JPEG predefined Huffman table for DC/AC coefficients. We used tables from \"Digital Image Processing\" by Rafael C. Gonzalez & Richard E. Woods page 934.\n",
    "\n",
    "Let's denote:\n",
    "\n",
    "- **A**: JPEG coefficients coding categories table\n",
    "- **B**: JPEG DC coefficients table\n",
    "- **C**: JPEG AC coefficients table\n",
    "\n",
    "**<ins>To encode DC coefficient<ins>:** $DC = -26$\n",
    "- Check in **A** in which category <a style=\"color:green\">CAT</a> $-26$ belongs to: (category 5).\n",
    "    - This means that -26 needs 5 bits to be represented in binary.\n",
    "    - Retrieve <a style=\"color:red\">binary representation</a> of number with <a style=\"color:green\">CAT</a> in **A** (<a style=\"color:red\">00101</a>)\n",
    "    ![](https://cdn.discordapp.com/attachments/844292513665515531/859111745871413278/unknown.png)\n",
    "- Retrieve codeword in **B** using <a style=\"color:green\">CAT</a> $\\to$ codeword = <mark> <a style=\"color:green\">110</a></mark>\n",
    "    - Conclusion: $DC =$ <mark><a style=\"color:green\">110</a></mark> <a style=\"color:red\">00101</a>\n",
    "    \n",
    "**<ins>To encode AC coefficients<ins>:** $AC = -3$ (The second $-3$ on above zigzag ordering)\n",
    "- Check in **A** in which category <a style=\"color:green\">CAT</a> $-3$ belongs to: (category 2)\n",
    "  - This means that -3 needs 2 bits to be represented in binary.\n",
    "    - Retrieve <a style=\"color:red\">binary representation</a> of number with <a style=\"color:green\">CAT</a> in **B** (<a style=\"color:red\">00</a>)\n",
    "    ![](https://cdn.discordapp.com/attachments/844292513665515531/859113073365614602/unknown.png)\n",
    "- Compute <a style=\"color:purple\">RUN</a> which correspond to number of 0s precedding AC coeff (<a style=\"color:purple\">RUN=1</a>)\n",
    "- Retrieve codeword in **C** using <mark><a style=\"color:purple\">RUN</a>/<a style=\"color:green\">CAT</a> = <a style=\"color:purple\">1</a>/<a style=\"color:green\">2</a></mark> $\\to$ codeword = <mark>111001</mark>\n",
    "- Conclusion: $AC = $ <mark>111001</mark><a style=\"color:red\">00</a>"
   ]
  },
  {
   "cell_type": "markdown",
   "id": "3202ae24",
   "metadata": {},
   "source": [
    "# <ins> II/ Decompresion </ins>"
   ]
  },
  {
   "cell_type": "markdown",
   "id": "dce078ef",
   "metadata": {},
   "source": [
    "![](https://cdn.discordapp.com/attachments/844292513665515531/859105375265226782/unknown.png)"
   ]
  },
  {
   "cell_type": "markdown",
   "id": "b6368b7b",
   "metadata": {},
   "source": [
    "## 1) Huffman$^{-1}$ + Zigzag$^{-1}$"
   ]
  },
  {
   "cell_type": "markdown",
   "id": "382e0da9",
   "metadata": {},
   "source": [
    "### A) Huffman$^{-1}$"
   ]
  },
  {
   "cell_type": "markdown",
   "id": "b02a9c82",
   "metadata": {},
   "source": [
    "### b) Zigzag$^{-1}$"
   ]
  },
  {
   "cell_type": "markdown",
   "id": "9dfe9c43",
   "metadata": {},
   "source": [
    "## 2) Reverse quantization"
   ]
  },
  {
   "cell_type": "markdown",
   "id": "ed375112",
   "metadata": {},
   "source": [
    "## 3) DCT$^{-1}$"
   ]
  },
  {
   "cell_type": "markdown",
   "id": "54e5087e",
   "metadata": {},
   "source": [
    "## 4) Block combination"
   ]
  },
  {
   "cell_type": "code",
   "execution_count": null,
   "id": "835fe168",
   "metadata": {},
   "outputs": [],
   "source": []
  }
 ],
 "metadata": {
  "kernelspec": {
   "display_name": "codo-env",
   "language": "python",
   "name": "codo-env"
  },
  "language_info": {
   "codemirror_mode": {
    "name": "ipython",
    "version": 3
   },
   "file_extension": ".py",
   "mimetype": "text/x-python",
   "name": "python",
   "nbconvert_exporter": "python",
   "pygments_lexer": "ipython3",
   "version": "3.6.9"
  }
 },
 "nbformat": 4,
 "nbformat_minor": 5
}
