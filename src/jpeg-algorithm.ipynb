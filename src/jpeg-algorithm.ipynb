{
 "cells": [
  {
   "cell_type": "markdown",
   "id": "0dec5f94",
   "metadata": {},
   "source": [
    "# Jpeg algorithm"
   ]
  },
  {
   "cell_type": "markdown",
   "id": "c85b34e9",
   "metadata": {},
   "source": [
    "**Groupe 30**: Tony Heng / Gabriel Rayzal / Nathan Cabasso / Ferdinand Mom"
   ]
  },
  {
   "cell_type": "code",
   "execution_count": 1,
   "id": "b52ac1a6",
   "metadata": {},
   "outputs": [],
   "source": [
    "# Explained what is JPEG etc ..."
   ]
  },
  {
   "cell_type": "markdown",
   "id": "c60af7d6",
   "metadata": {},
   "source": [
    "# Table of Contents\n",
    "\n",
    "- Theory\n",
    "    - Compression\n",
    "    - Decompression\n",
    "- Practical\n",
    "    - Compression / Decompression\n",
    "    - Different quality of compression"
   ]
  },
  {
   "cell_type": "code",
   "execution_count": 8,
   "id": "f615f1c4",
   "metadata": {},
   "outputs": [],
   "source": [
    "import numpy as np\n",
    "\n",
    "from src.compression import *\n",
    "from src.decompression import *\n",
    "from src.utils import *"
   ]
  },
  {
   "cell_type": "markdown",
   "id": "72724dd7",
   "metadata": {},
   "source": [
    "# I/ Theory"
   ]
  },
  {
   "cell_type": "markdown",
   "id": "b3d3fc07",
   "metadata": {},
   "source": [
    "# <ins> Compression </ins>"
   ]
  },
  {
   "cell_type": "markdown",
   "id": "55f2eadf",
   "metadata": {},
   "source": [
    "Whole compression pipeline"
   ]
  },
  {
   "cell_type": "markdown",
   "id": "43b61540",
   "metadata": {},
   "source": [
    "![](https://cdn.discordapp.com/attachments/844292513665515531/859104978538856448/unknown.png)"
   ]
  },
  {
   "cell_type": "markdown",
   "id": "7bb26959",
   "metadata": {},
   "source": [
    "## 1) Block splitting"
   ]
  },
  {
   "cell_type": "markdown",
   "id": "2f096a7d",
   "metadata": {},
   "source": [
    "First step is to divide input image into non-overlapping 8 × 8 macro-blocks.\n",
    "![](https://cdn.discordapp.com/attachments/844292513665515531/859064441525370900/unknown.png)\n",
    "If the dimensions are not divisible in integer numbers of blocks, the image can be padded:\n",
    "\n",
    "- zero padding: #TODO\n",
    "- replicating border: #TODO\n",
    "\n",
    "A naive approach could be to pad only a side of the image (bottom-left). The downside of this approach is that we can find ourselves with macro-blocks full of zeros. Thus, we decided to implement our padding in a such way that the image is always center in the middle."
   ]
  },
  {
   "cell_type": "markdown",
   "id": "0242cf4f",
   "metadata": {},
   "source": [
    "## 2) DCT"
   ]
  },
  {
   "cell_type": "markdown",
   "id": "dde19fa5",
   "metadata": {},
   "source": [
    "The second step is to perform a DCT (Discret Cosine Transformation) on each macro-block. To understand the need of DCT, we need to first understand what is an image. An image is the superposition of:\n",
    "\n",
    "- Low frequencies: overall structure of image.\n",
    "- High frequencies: Details (edges and noises)\n",
    "\n",
    "An image is originally represented in its spatial representation which means the image is decomposed in a set of basis image.\n",
    "\n",
    "![](https://cdn.discordapp.com/attachments/844292513665515531/859090327977721866/unknown.png)\n",
    "\n",
    "The problem is then the following: How do we discard the useless part of high frequency (noises) without removing important information ?\n",
    "\n",
    "To do so, we perform a frequency analysis of the image. However, the way the image is initially represented (in spatial representation) is not suited to carry out a frequency analysis. Indeed, high frequencies are disseminated everywhere in the image so it is hard to tell whether a quick variation in terms of pixel is due to an edge (important) or noise (to be discarded).\n",
    "\n",
    "That is why we need to change the representation of our image which is done by performing transformations on our image in order to represent it into a new basis. More precisely, the transformation will enable to represent our image into a new basis. Here are some transformations:\n",
    "\n",
    "- Walsh-Hadamard\n",
    "- Discret Fourier Transform (DFT)\n",
    "- Discret Cosine Transform (DCT)\n",
    "\n",
    "JPEG uses DCT which succeed in compacting most of the image energy into as few coefficients as possible compare to Waslh-Hadamard and does not require to store complex number (real and imaginary parts) like DFT which requires double the memory for storage.\n",
    "\n",
    "Each 8x8 macro-block will then be multiply with the following DCT kernel matrix:\n",
    "\n",
    "![](https://cdn.discordapp.com/attachments/844292513665515531/859082211910221824/unknown.png)\n",
    "\n",
    "The result of the DCT is also an 8 by 8 block where the first coefficient at the top left corner represents the DC coefficient. Remaining coefficients are called AC coefficients. The advantage of the DCT is its tendency to aggregate most of the signal in top left corner of the result. Note that the higher the coefficient, the more information it contains, useful to properly reconstruct the image. Thus, we can gain in storage by removing smaller coefficients which is the goal of next step."
   ]
  },
  {
   "cell_type": "code",
   "execution_count": 15,
   "id": "4cd6550c",
   "metadata": {},
   "outputs": [
    {
     "name": "stdout",
     "output_type": "stream",
     "text": [
      "[test_dct]: OK\n"
     ]
    }
   ],
   "source": [
    "def test_dct():\n",
    "    # Taken from wikipedia: https://en.wikipedia.org/wiki/JPEG#Encoding\n",
    "    block = np.array([\n",
    "        [52, 55, 61, 66, 70, 61, 64, 73],\n",
    "        [63, 59, 55, 90, 109, 85, 69, 72],\n",
    "        [62, 59, 68, 113, 144, 104, 66, 73],\n",
    "        [63, 58, 71, 122, 154, 106, 70, 69],\n",
    "        [67, 61, 68, 104, 126, 88, 68, 70],\n",
    "        [79, 65, 60, 70, 77, 68, 58, 75],\n",
    "        [85, 71, 64, 59, 55, 61, 65, 83],\n",
    "        [87,  79, 69, 68, 65, 76, 78, 94]]\n",
    "    )\n",
    "\n",
    "    expected = np.array([\n",
    "        [-415.38, -30.19, -61.20, 27.24, 56.12, -20.10, -2.39, 0.46],\n",
    "        [4.47, -21.86, -60.76, 10.25, 13.15, -7.09, -8.54, 4.88],\n",
    "        [-46.83, 7.37, 77.13, -24.56, -28.91, 9.93, 5.42, -5.65],\n",
    "        [-48.53, 12.07, 34.10, -14.76, -10.24, 6.30, 1.83, 1.95],\n",
    "        [12.12, -6.55, -13.20, -3.95, -1.87, 1.75, -2.79, 3.14],\n",
    "        [-7.73, 2.91, 2.38, -5.94, -2.38, 0.94, 4.30, 1.85],\n",
    "        [-1.03, 0.18, 0.42, -2.42, -0.88, -3.02, 4.12, -0.66],\n",
    "        [-0.17, 0.14, -1.07, -4.19, -1.17, -0.10, 0.50, 1.68]]\n",
    "    )\n",
    "\n",
    "    result = dct(block)\n",
    "    assert np.allclose(result, expected, atol=1e-2, rtol=0.) == True\n",
    "    print(\"[test_dct]: OK\")\n",
    "\n",
    "test_dct()"
   ]
  },
  {
   "cell_type": "markdown",
   "id": "690b81a9",
   "metadata": {},
   "source": [
    "## 3) Quantization"
   ]
  },
  {
   "attachments": {},
   "cell_type": "markdown",
   "id": "e5faf157",
   "metadata": {},
   "source": [
    "The third step is quantization which looks for a way to maximize the number of 0 coefficients. This is done through the use of quantization matrix which were found empirically.\n",
    "\n",
    "First quantization matrix is for RGB image while second one is for YUV image (only to be applied to UV channels): \n",
    "\n",
    "![](https://cdn.discordapp.com/attachments/844292513665515531/859100308390805534/quantification_Qq.png)\n",
    "![](https://cdn.discordapp.com/attachments/844292513665515531/859100870369214534/quantification_Quv.png)\n",
    "\n",
    "The formula is the following:\n",
    "\n",
    "$$round(\\frac{DCT(block - 128)}{Q})$$\n",
    "\n",
    "- Before applying DCT, we must remove 128 to each 8x8 macro-block because statiscally, it was found that the mean value of an 8x8 macro-block is close to 128. Thus, $DCT(block - 128)$ wille result in more value close to 0.\n",
    "- After dividing by the quantization matrix, we round to the nearest integer. This is the reason why JPEG is a lossy algorithm. It will not be possible to recover the same value during decompression.\n",
    "\n",
    "One can also change the quality of compression using a quality factor $q \\in [1, 100]$ and the following algorithm:\n",
    "\n",
    "![](https://cdn.discordapp.com/attachments/844292513665515531/859104454381142046/unknown.png)\n",
    "\n",
    "The higher $q$ is, the more similar the compressed image will be compared to the original image."
   ]
  },
  {
   "cell_type": "code",
   "execution_count": 19,
   "id": "d3c200d3",
   "metadata": {},
   "outputs": [
    {
     "name": "stdout",
     "output_type": "stream",
     "text": [
      "[test_quantization]: OK\n"
     ]
    }
   ],
   "source": [
    "def test_quantization():\n",
    "    # Taken from wikipedia: https://en.wikipedia.org/wiki/JPEG#Encoding\n",
    "    dct_block = np.array([\n",
    "        [-415.38, -30.19, -61.20, 27.24, 56.12, -20.10, -2.39, 0.46],\n",
    "        [4.47, -21.86, -60.76, 10.25, 13.15, -7.09, -8.54, 4.88],\n",
    "        [-46.83, 7.37, 77.13, -24.56, -28.91, 9.93, 5.42, -5.65],\n",
    "        [-48.53, 12.07, 34.10, -14.76, -10.24, 6.30, 1.83, 1.95],\n",
    "        [12.12, -6.55, -13.20, -3.95, -1.87, 1.75, -2.79, 3.14],\n",
    "        [-7.73, 2.91, 2.38, -5.94, -2.38, 0.94, 4.30, 1.85],\n",
    "        [-1.03, 0.18, 0.42, -2.42, -0.88, -3.02, 4.12, -0.66],\n",
    "        [-0.17, 0.14, -1.07, -4.19, -1.17, -0.10, 0.50, 1.68]]\n",
    "    )\n",
    "\n",
    "    Q_MAT = np.array([\n",
    "        [16, 11, 10, 16, 24, 40, 51, 61],\n",
    "        [12, 12, 14, 19, 26, 58, 60, 55],\n",
    "        [14, 13, 16, 24, 40, 57, 69, 56],\n",
    "        [14, 17, 22, 29, 51, 87, 80, 62],\n",
    "        [18, 22, 37, 56, 68, 109, 103, 77],\n",
    "        [24, 35, 55, 64, 81, 104, 113, 92],\n",
    "        [49, 64, 78, 87, 103, 121, 120, 101],\n",
    "        [72,  92, 95, 98, 112, 100, 103, 99]]\n",
    "    )\n",
    "\n",
    "    expected = np.array([\n",
    "        [-26, -3, -6, 2, 2, -1, 0, 0],\n",
    "        [0, -2, -4, 1, 1, 0, 0, 0],\n",
    "        [-3, 1, 5, -1, -1, 0, 0, 0],\n",
    "        [-3, 1, 2, -1, 0, 0, 0, 0],\n",
    "        [1, 0, 0, 0, 0, 0, 0, 0],\n",
    "        [0, 0, 0, 0, 0, 0, 0, 0],\n",
    "        [0, 0, 0, 0, 0, 0, 0, 0],\n",
    "        [0, 0, 0, 0, 0, 0, 0, 0]]\n",
    "    )\n",
    "\n",
    "    result = quantization(dct_block, Q_MAT)\n",
    "    assert np.allclose(result, expected) == True\n",
    "    assert result.dtype == expected.dtype\n",
    "    print(\"[test_quantization]: OK\")\n",
    "\n",
    "test_quantization()"
   ]
  },
  {
   "cell_type": "markdown",
   "id": "ea1c2676",
   "metadata": {},
   "source": [
    "## 4) Zigzag + Huffman"
   ]
  },
  {
   "cell_type": "markdown",
   "id": "74f3d48c",
   "metadata": {},
   "source": [
    "### a) Zigzag"
   ]
  },
  {
   "cell_type": "markdown",
   "id": "779d301a",
   "metadata": {},
   "source": [
    "The goal of this step is to represent our 8x8 macro-block with only the essential coefficients. Indeed, after quantization, a lot of coefficients on the bottom corner of our macro-block are set to 0 while most of the important coefficients are on the top left corner."
   ]
  },
  {
   "cell_type": "markdown",
   "id": "155586a2",
   "metadata": {},
   "source": [
    "![](https://cdn.discordapp.com/attachments/844292513665515531/859105773091291146/unknown.png)"
   ]
  },
  {
   "cell_type": "code",
   "execution_count": 20,
   "id": "5343bbe2",
   "metadata": {},
   "outputs": [
    {
     "name": "stdout",
     "output_type": "stream",
     "text": [
      "[test_zigzag]: OK\n"
     ]
    }
   ],
   "source": [
    "def test_zigzag():\n",
    "    # Taken from wikipedia: https://en.wikipedia.org/wiki/JPEG#Encoding\n",
    "    quantized_block = np.array([\n",
    "        [-26, -3, -6, 2, 2, -1, 0, 0],\n",
    "        [0, -2, -4, 1, 1, 0, 0, 0],\n",
    "        [-3, 1, 5, -1, -1, 0, 0, 0],\n",
    "        [-3, 1, 2, -1, 0, 0, 0, 0],\n",
    "        [1, 0, 0, 0, 0, 0, 0, 0],\n",
    "        [0, 0, 0, 0, 0, 0, 0, 0],\n",
    "        [0, 0, 0, 0, 0, 0, 0, 0],\n",
    "        [0, 0, 0, 0, 0, 0, 0, 0]]\n",
    "    )\n",
    "\n",
    "    expected = np.array(\n",
    "        [-26,\n",
    "        -3, 0,\n",
    "        -3, -2, -6,\n",
    "        2, -4, 1, -3,\n",
    "        1, 1, 5, 1, 2,\n",
    "        -1, 1, -1, 2, 0, 0,\n",
    "        0, 0, 0, -1, -1, 0, 0,\n",
    "        0, 0, 0, 0, 0, 0, 0, 0,\n",
    "        0, 0, 0, 0, 0, 0, 0,\n",
    "        0, 0, 0, 0, 0, 0,\n",
    "        0, 0, 0, 0, 0,\n",
    "        0, 0, 0, 0,\n",
    "        0, 0, 0,\n",
    "        0, 0,\n",
    "        0]\n",
    "    )\n",
    "    result = zigzag(quantized_block)\n",
    "    assert np.allclose(result, np.trim_zeros(expected, trim='b')) == True\n",
    "    print(\"[test_zigzag]: OK\")\n",
    "    \n",
    "test_zigzag()"
   ]
  },
  {
   "cell_type": "markdown",
   "id": "84109954",
   "metadata": {},
   "source": [
    "### b) Huffman"
   ]
  },
  {
   "cell_type": "markdown",
   "id": "d2fd0d6b",
   "metadata": {},
   "source": [
    "We know need to encode coefficients in the zigzag ordering using JPEG predefined Huffman table for DC/AC coefficients. We used tables from \"Digital Image Processing\" by Rafael C. Gonzalez & Richard E. Woods page 934.\n",
    "\n",
    "Let's denote:\n",
    "\n",
    "- **A**: JPEG coefficients coding categories table\n",
    "- **B**: JPEG DC coefficients table\n",
    "- **C**: JPEG AC coefficients table\n",
    "\n",
    "**<ins>To encode DC coefficient<ins>:** $DC = -26$\n",
    "- Check in **A** in which category <a style=\"color:green\">CAT</a> $-26$ belongs to: (category 5).\n",
    "    - This means that -26 needs 5 bits to be represented in binary.\n",
    "    - Retrieve <a style=\"color:red\">binary representation</a> of number with <a style=\"color:green\">CAT</a> in **A** (<a style=\"color:red\">00101</a>)\n",
    "    ![](https://cdn.discordapp.com/attachments/844292513665515531/859111745871413278/unknown.png)\n",
    "- Retrieve codeword in **B** using <a style=\"color:green\">CAT</a> $\\to$ codeword = <mark> <a style=\"color:green\">110</a></mark>\n",
    "    - Conclusion: $DC =$ <mark><a style=\"color:green\">110</a></mark> <a style=\"color:red\">00101</a>\n",
    "    \n",
    "**<ins>To encode AC coefficients<ins>:** $AC = -3$ (The second $-3$ on above zigzag ordering)\n",
    "- Check in **A** in which category <a style=\"color:green\">CAT</a> $-3$ belongs to: (category 2)\n",
    "  - This means that -3 needs 2 bits to be represented in binary.\n",
    "    - Retrieve <a style=\"color:red\">binary representation</a> of number with <a style=\"color:green\">CAT</a> in **B** (<a style=\"color:red\">00</a>)\n",
    "    ![](https://cdn.discordapp.com/attachments/844292513665515531/859113073365614602/unknown.png)\n",
    "- Compute <a style=\"color:purple\">RUN</a> which correspond to number of 0s precedding AC coeff (<a style=\"color:purple\">RUN=1</a>)\n",
    "- Retrieve codeword in **C** using <mark><a style=\"color:purple\">RUN</a>/<a style=\"color:green\">CAT</a> = <a style=\"color:purple\">1</a>/<a style=\"color:green\">2</a></mark> $\\to$ codeword = <mark>111001</mark>\n",
    "- Conclusion: $AC = $ <mark>111001</mark><a style=\"color:red\">00</a>"
   ]
  },
  {
   "cell_type": "code",
   "execution_count": 22,
   "id": "688dd3e7",
   "metadata": {},
   "outputs": [
    {
     "name": "stdout",
     "output_type": "stream",
     "text": [
      "[test_huffman]: OK\n"
     ]
    }
   ],
   "source": [
    "def test_huffman():\n",
    "    largest_range = list(itertools.product(['0', '1'], repeat=15))\n",
    "\n",
    "    # Regular Huffman.\n",
    "    zigzag_order = np.array([-26, -3, 0, -3, -2, -6, 2, -4, 1, -3, 1, 1, 5, 1, 2, -1, 1, -1, 2, 0, 0, 0, 0, 0, -1, -1, 0])\n",
    "    expected = np.array([\"11000101\",\"0100\",\"11100100\",\"0101\",\"100001\",\"0110\",\"100011\",\"001\",\"0100\",\"001\",\"001\",\"100101\",\"001\",\"0110\",\"000\",\"001\",\"000\",\"0110\",\"11110100\",\"000\",\"1010\"])\n",
    "\n",
    "    result = huffman(zigzag_order, largest_range)\n",
    "    assert len(result) == len(expected)\n",
    "        \n",
    "    for res, exp in zip(result, expected):\n",
    "        assert res == exp\n",
    "    \n",
    "    # Huffman with 27 zeros before AC coeff.\n",
    "    zigzag_order = np.array([-26,0,0,0,0,0,0,0,0,0,0,0,0,0,0,0,0,0,0,0,0,0,0,0,0,0,0,0,1])\n",
    "    expected = np.array([\"11000101\", \"1111111101110\", \"11111110101\", \"1010\"])\n",
    "\n",
    "    result = huffman(zigzag_order, largest_range)\n",
    "    assert len(result) == len(expected)\n",
    "    \n",
    "    for res, exp in zip(result, expected):\n",
    "        assert res == exp\n",
    "    \n",
    "    print(\"[test_huffman]: OK\")\n",
    "\n",
    "test_huffman()"
   ]
  },
  {
   "cell_type": "markdown",
   "id": "5817054f",
   "metadata": {},
   "source": [
    "---"
   ]
  },
  {
   "cell_type": "markdown",
   "id": "3202ae24",
   "metadata": {},
   "source": [
    "# <ins> Decompresion </ins>"
   ]
  },
  {
   "cell_type": "markdown",
   "id": "febc7e49",
   "metadata": {},
   "source": [
    "JPEG decompression process is the exact inverse of the compression scheme."
   ]
  },
  {
   "cell_type": "markdown",
   "id": "05562fd4",
   "metadata": {},
   "source": [
    "![](https://cdn.discordapp.com/attachments/844292513665515531/859105375265226782/unknown.png)"
   ]
  },
  {
   "cell_type": "markdown",
   "id": "b6368b7b",
   "metadata": {},
   "source": [
    "## 1) Huffman$^{-1}$ + Zigzag$^{-1}$"
   ]
  },
  {
   "cell_type": "markdown",
   "id": "382e0da9",
   "metadata": {},
   "source": [
    "### A) Huffman$^{-1}$"
   ]
  },
  {
   "cell_type": "markdown",
   "id": "874816de",
   "metadata": {},
   "source": [
    "From the bitstream, we have to recover the 8x8 macro-block in zigzag order. To do so, we use a \"sliding window\" approach where we check if the codeword formed by the sliding window belongs to the table or not. A full 8x8 macro-block is found when reaching the EOB = \"1010\" (End Of Block) symbol.\n",
    "\n",
    "![](https://cdn.discordapp.com/attachments/844292513665515531/859134555893399614/unknown.png)"
   ]
  },
  {
   "cell_type": "code",
   "execution_count": 24,
   "id": "0ecf6aa4",
   "metadata": {},
   "outputs": [
    {
     "name": "stdout",
     "output_type": "stream",
     "text": [
      "[test_huffman_inv]: OK\n"
     ]
    }
   ],
   "source": [
    "def test_huffman_inv():\n",
    "    bitstream = \"1100010101001110010001011000010110100011001010000100110010100101100000010000110111101000001010\"\n",
    "    largest_range = list(itertools.product(['0', '1'], repeat=15))\n",
    "    expected = [-26, -3, 0, -3, -2, -6, 2, -4, 1, -3, 1, 1, 5, 1, 2, -1, 1, -1, 2, 0, 0, 0, 0, 0, -1, -1]\n",
    "\n",
    "    result = next(iter(huffman_inv(bitstream, largest_range)))\n",
    "    assert len(result) == len(expected)\n",
    "    assert np.allclose(result, expected) == True\n",
    "    \n",
    "    print(\"[test_huffman_inv]: OK\")\n",
    "\n",
    "test_huffman_inv()"
   ]
  },
  {
   "cell_type": "markdown",
   "id": "b02a9c82",
   "metadata": {},
   "source": [
    "### b) Zigzag$^{-1}$"
   ]
  },
  {
   "cell_type": "markdown",
   "id": "d518eef3",
   "metadata": {},
   "source": [
    "We recreate the 8x8 matrix by re-placing values of the zigzag order.\n",
    "\n",
    "![](https://cdn.discordapp.com/attachments/844292513665515531/859135707671035944/unknown.png)"
   ]
  },
  {
   "cell_type": "code",
   "execution_count": 28,
   "id": "753542a0",
   "metadata": {},
   "outputs": [
    {
     "name": "stdout",
     "output_type": "stream",
     "text": [
      "[test_zigzag_inv]: OK\n"
     ]
    }
   ],
   "source": [
    "def test_zigzag_inv():\n",
    "    #  Top left corner matrix.\n",
    "    zigzag_order = [-26, -3, 0, -3, -2, -6, 2, -4, 1, -3, 1, 1, 5, 1, 2, -1, 1, -1, 2, 0, 0, 0, 0, 0, -1, -1]\n",
    "    expected = np.array([\n",
    "        [-26, -3, -6,  2,  2, -1,  0,  0],\n",
    "        [  0, -2, -4,  1,  1,  0,  0,  0],\n",
    "        [ -3,  1,  5, -1, -1,  0,  0,  0],\n",
    "        [ -3,  1,  2, -1,  0,  0,  0,  0],\n",
    "        [  1,  0,  0,  0,  0,  0,  0,  0],\n",
    "        [  0,  0,  0,  0,  0,  0,  0,  0],\n",
    "        [  0,  0,  0,  0,  0,  0,  0,  0],\n",
    "        [  0,  0,  0,  0,  0,  0,  0,  0]]\n",
    "    )\n",
    "\n",
    "    result = zigzag_inv(zigzag_order)\n",
    "    assert np.allclose(result, expected) == True\n",
    "    \n",
    "    # Whole matrix.\n",
    "    zigzag_order = [-42, -1, -7, -6, 0, -38, 3, 4, -1, -3, -9, -2, 7, 0, 7, -4, 2, 0, 2, 1, 7, -3, 1, 5, 2, -2, 0, 0, 4, -1, 2, -1, -1, -2, 0, 1, 0, 1, -1, -1, -1, 1, 1, -3, 0, 0, -1, 0, -1, 0, 1, 1, 0, 0, 0, 1, 0, 1, 1, -1, 0, -1, 0, -1]\n",
    "    expected = np.array([\n",
    "        [-42, -1, -38,  3,  7,  -4,  0,  4],\n",
    "        [ -7,  0,   4,  0,  2,   0, -1,  1],\n",
    "        [ -6, -1,   7,  0,  -2,  2,  1, -3],\n",
    "        [ -3, -2,   2,  2,  -1, -1,  0,  0],\n",
    "        [ -9,  1,   5, -1,  -1,  0,  0,  0],\n",
    "        [  7,  1,  -2, -1,  -1,  1,  1,  0],\n",
    "        [ -3,  0,   1,  0,   1,  0, -1, -1],\n",
    "        [  1,  0,  -1,  0,   1,  1,  0, -1]]\n",
    "    )\n",
    "        \n",
    "    result = zigzag_inv(zigzag_order)\n",
    "    assert np.allclose(result, expected) == True\n",
    "\n",
    "    print(\"[test_zigzag_inv]: OK\")\n",
    "\n",
    "test_zigzag_inv()"
   ]
  },
  {
   "cell_type": "markdown",
   "id": "9dfe9c43",
   "metadata": {},
   "source": [
    "## 2) Reverse quantization"
   ]
  },
  {
   "cell_type": "markdown",
   "id": "6232f197",
   "metadata": {},
   "source": [
    "An element-wise multiplication (Hadamard product) is performed to retrieve the matrix before quantization. Note that the retrieved matrix is different from the one in compression since we performed a rounding operation.\n",
    "\n",
    "![](https://cdn.discordapp.com/attachments/844292513665515531/859135529287286834/unknown.png)"
   ]
  },
  {
   "cell_type": "code",
   "execution_count": 30,
   "id": "71147918",
   "metadata": {},
   "outputs": [
    {
     "name": "stdout",
     "output_type": "stream",
     "text": [
      "[test_quantization_inv]: OK\n"
     ]
    }
   ],
   "source": [
    "def test_quantization_inv():\n",
    "    q_block = np.array([\n",
    "        [-26, -3, -6, 2, 2, -1, 0, 0],\n",
    "        [0, -2, -4, 1, 1, 0, 0, 0],\n",
    "        [-3, 1, 5, -1, -1, 0, 0, 0],\n",
    "        [-3, 1, 2, -1, 0, 0, 0, 0],\n",
    "        [1, 0, 0, 0, 0, 0, 0, 0],\n",
    "        [0, 0, 0, 0, 0, 0, 0, 0],\n",
    "        [0, 0, 0, 0, 0, 0, 0, 0],\n",
    "        [0, 0, 0, 0, 0, 0, 0, 0]]\n",
    "    )\n",
    "\n",
    "    expected = np.array([\n",
    "        [-416,  -33,  -60,   32,   48,  -40,    0,    0],\n",
    "        [   0,  -24,  -56,   19,   26,    0,    0,    0],\n",
    "        [ -42,   13,   80,  -24,  -40,    0,    0,    0],\n",
    "        [ -42,   17,   44,  -29,    0,    0,    0,    0],\n",
    "        [  18,    0,    0,    0,    0,    0,    0,    0],\n",
    "        [   0,    0,    0,    0,    0,    0,    0,    0],\n",
    "        [   0,    0,    0,    0,    0,    0,    0,    0],\n",
    "        [   0,    0,    0,    0,    0,    0,    0,    0]\n",
    "    ])\n",
    "\n",
    "\n",
    "    result = quantization_inv(q_block, Q_MAT)\n",
    "    assert np.allclose(result, expected) == True\n",
    "    print(\"[test_quantization_inv]: OK\")\n",
    "\n",
    "test_quantization_inv()"
   ]
  },
  {
   "cell_type": "markdown",
   "id": "ed375112",
   "metadata": {},
   "source": [
    "## 3) DCT$^{-1}$"
   ]
  },
  {
   "cell_type": "markdown",
   "id": "b3fbeaef",
   "metadata": {},
   "source": [
    "The reverse DCT is performed to retrieve the initial 8x8 macro-block. We used the following formula:\n",
    "\n",
    "$$block = DCT^{-1}(\\tilde{J}_{Bi^*}) + 128$$"
   ]
  },
  {
   "cell_type": "code",
   "execution_count": 33,
   "id": "18a7bcd5",
   "metadata": {},
   "outputs": [
    {
     "name": "stdout",
     "output_type": "stream",
     "text": [
      "[test_dct_inv]: OK\n"
     ]
    }
   ],
   "source": [
    "def test_dct_inv():\n",
    "    dct_block = np.array([\n",
    "        [-416,  -33,  -60,   32,   48,  -40,    0,    0],\n",
    "        [   0,  -24,  -56,   19,   26,    0,    0,    0],\n",
    "        [ -42,   13,   80,  -24,  -40,    0,    0,    0],\n",
    "        [ -42,   17,   44,  -29,    0,    0,    0,    0],\n",
    "        [  18,    0,    0,    0,    0,    0,    0,    0],\n",
    "        [   0,    0,    0,    0,    0,    0,    0,    0],\n",
    "        [   0,    0,    0,    0,    0,    0,    0,    0],\n",
    "        [   0,    0,    0,    0,    0,    0,    0,    0]\n",
    "    ])\n",
    "\n",
    "    expected = np.array([\n",
    "        [62, 65, 57, 60, 72, 63, 60, 82],\n",
    "        [57, 55, 56, 82, 108, 87, 62, 71],\n",
    "        [58, 50, 60, 111, 148, 114, 67, 65],\n",
    "        [65, 55, 66, 120, 155, 114, 68, 70],\n",
    "        [70, 63, 67, 101, 122, 88, 60, 78],\n",
    "        [71, 71, 64, 70, 80, 62, 56, 81],\n",
    "        [75, 82, 67, 54, 63, 65, 66, 83],\n",
    "        [81, 94, 75, 54, 68, 81, 81, 87]\n",
    "    ])\n",
    "        \n",
    "    result = dct_inv(dct_block)\n",
    "    assert np.allclose(result, expected) == True\n",
    "    print(\"[test_dct_inv]: OK\")\n",
    "\n",
    "test_dct_inv()"
   ]
  },
  {
   "cell_type": "markdown",
   "id": "54e5087e",
   "metadata": {},
   "source": [
    "## 4) Block combination"
   ]
  },
  {
   "cell_type": "markdown",
   "id": "eb7c7a1d",
   "metadata": {},
   "source": [
    "We are only left with combining all retrieved 8x8 macro-block to form the original image in compression.\n",
    "![](https://cdn.discordapp.com/attachments/844292513665515531/859136855672750130/unknown.png)"
   ]
  },
  {
   "cell_type": "code",
   "execution_count": null,
   "id": "4364a925",
   "metadata": {},
   "outputs": [],
   "source": []
  }
 ],
 "metadata": {
  "kernelspec": {
   "display_name": "codo-env",
   "language": "python",
   "name": "codo-env"
  },
  "language_info": {
   "codemirror_mode": {
    "name": "ipython",
    "version": 3
   },
   "file_extension": ".py",
   "mimetype": "text/x-python",
   "name": "python",
   "nbconvert_exporter": "python",
   "pygments_lexer": "ipython3",
   "version": "3.6.9"
  }
 },
 "nbformat": 4,
 "nbformat_minor": 5
}
